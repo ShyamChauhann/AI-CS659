{
 "cells": [
  {
   "cell_type": "code",
   "execution_count": 2,
   "id": "261a0dea-9dc6-4700-a880-f6f1154312b7",
   "metadata": {},
   "outputs": [
    {
     "name": "stdout",
     "output_type": "stream",
     "text": [
      "Sentence Alignment (Doc A vs Doc B):\n",
      "Artificial intelligence is a branch of computer science      | Artificial intelligence is a branch of computer science      | Match\n",
      "It deals with machine learning                               | It studies machine learning                                  | Mismatch\n",
      "A* search is widely used                                     | A* search is widely used                                     | Match\n",
      "\n",
      "Overall Similarity: 66.67%\n"
     ]
    }
   ],
   "source": [
    "import heapq\n",
    "\n",
    "def split_text(text):\n",
    "    return [chunk.strip() for chunk in text.split('.') if chunk.strip()]\n",
    "\n",
    "def align_with_astar(text_A, text_B):\n",
    "    part_A = split_text(text_A)\n",
    "    part_B = split_text(text_B)\n",
    "    len_A, len_B = len(part_A), len(part_B)\n",
    "\n",
    "    start_state = (0, 0)\n",
    "    target_state = (len_A, len_B)\n",
    "\n",
    "    frontier = []\n",
    "    heapq.heappush(frontier, (0, 0, start_state, []))\n",
    "    seen = set()\n",
    "\n",
    "    while frontier:\n",
    "        f, g, (i, j), trace = heapq.heappop(frontier)\n",
    "\n",
    "        if (i, j) in seen:\n",
    "            continue\n",
    "        seen.add((i, j))\n",
    "\n",
    "        if (i, j) == target_state:\n",
    "            return trace\n",
    "\n",
    "        if i < len_A and j < len_B:\n",
    "            penalty = 0 if part_A[i].lower() == part_B[j].lower() else 1\n",
    "            step = trace + [(part_A[i], part_B[j], penalty)]\n",
    "            heuristic = abs((len_A - (i+1)) - (len_B - (j+1)))\n",
    "            heapq.heappush(frontier, (g + penalty + heuristic, g + penalty, (i+1, j+1), step))\n",
    "\n",
    "        if i < len_A:\n",
    "            step = trace + [(part_A[i], \"-\", 1)]\n",
    "            heuristic = abs((len_A - (i+1)) - (len_B - j))\n",
    "            heapq.heappush(frontier, (g + 1 + heuristic, g + 1, (i+1, j), step))\n",
    "\n",
    "        if j < len_B:\n",
    "            step = trace + [(\"-\", part_B[j], 1)]\n",
    "            heuristic = abs((len_A - i) - (len_B - (j+1)))\n",
    "            heapq.heappush(frontier, (g + 1 + heuristic, g + 1, (i, j+1), step))\n",
    "\n",
    "    return None\n",
    "\n",
    "def similarity_score(alignment):\n",
    "    if not alignment:\n",
    "        return 0.0\n",
    "    total_pairs = len(alignment)\n",
    "    exact_matches = sum(1 for _, _, cost in alignment if cost == 0)\n",
    "    return (exact_matches / total_pairs) * 100\n",
    "\n",
    "\n",
    "text_A = \"Artificial intelligence is a branch of computer science. It deals with machine learning. A* search is widely used.\"\n",
    "text_B = \"Artificial intelligence is a branch of computer science. It studies machine learning. A* search is widely used.\"\n",
    "\n",
    "alignment_result = align_with_astar(text_A, text_B)\n",
    "\n",
    "print(\"Sentence Alignment (Doc A vs Doc B):\")\n",
    "for left, right, cost in alignment_result:\n",
    "    status = \"Match\" if cost == 0 else \"Mismatch\"\n",
    "    print(f\"{left:<60} | {right:<60} | {status}\")\n",
    "\n",
    "final_score = similarity_score(alignment_result)\n",
    "print(f\"\\nOverall Similarity: {final_score:.2f}%\")"
   ]
  },
  {
   "cell_type": "code",
   "execution_count": null,
   "id": "b5d87b9e-a1e7-4b33-911c-9bb444184c0c",
   "metadata": {},
   "outputs": [],
   "source": []
  },
  {
   "cell_type": "code",
   "execution_count": null,
   "id": "42976cd7-cd5d-4604-a2df-f8ea0a89117a",
   "metadata": {},
   "outputs": [],
   "source": []
  }
 ],
 "metadata": {
  "kernelspec": {
   "display_name": "Python [conda env:iiitv_ai]",
   "language": "python",
   "name": "conda-env-iiitv_ai-py"
  },
  "language_info": {
   "codemirror_mode": {
    "name": "ipython",
    "version": 3
   },
   "file_extension": ".py",
   "mimetype": "text/x-python",
   "name": "python",
   "nbconvert_exporter": "python",
   "pygments_lexer": "ipython3",
   "version": "3.13.5"
  }
 },
 "nbformat": 4,
 "nbformat_minor": 5
}
